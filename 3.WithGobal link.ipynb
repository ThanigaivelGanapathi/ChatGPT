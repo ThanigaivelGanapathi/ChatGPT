{
 "cells": [
  {
   "cell_type": "code",
   "execution_count": 13,
   "id": "1cf6779c",
   "metadata": {
    "id": "1cf6779c",
    "outputId": "e2fd2d2a-01f6-462b-8191-50cb8d8882fc"
   },
   "outputs": [],
   "source": [
    "#pip install gradio"
   ]
  },
  {
   "cell_type": "code",
   "execution_count": 5,
   "id": "897b65c5-58b3-4fda-9d83-54fa8cc0e5d0",
   "metadata": {},
   "outputs": [],
   "source": [
    "import openai\n",
    "import gradio\n",
    "from openai import OpenAI"
   ]
  },
  {
   "cell_type": "code",
   "execution_count": 7,
   "id": "bba3926d-50d1-46fc-828b-72038fccd259",
   "metadata": {},
   "outputs": [],
   "source": [
    "client = OpenAI(api_key = \"API KEY\")"
   ]
  },
  {
   "cell_type": "code",
   "execution_count": 14,
   "id": "0b448857-c59e-4b2a-9066-c6c91bed6b8e",
   "metadata": {},
   "outputs": [],
   "source": [
    "def chatGPT(user_input):\n",
    "    messages.append({\"role\" : \"user\", \"content\" : user_input})\n",
    "    response = client.chat.completions.create(\n",
    "                    model = \"gpt-4o-mini\",\n",
    "                    messages = messages\n",
    "                )\n",
    "    reply = response.choices[0].message.content  \n",
    "    messages.append({\"role\" : \"assistant\", \"content\" : reply})\n",
    "    return reply\n",
    "    \n",
    "    "
   ]
  },
  {
   "cell_type": "code",
   "execution_count": 15,
   "id": "80e99f32-cd50-4916-98ab-7cc1dea461b7",
   "metadata": {},
   "outputs": [
    {
     "name": "stdout",
     "output_type": "stream",
     "text": [
      "* Running on local URL:  http://127.0.0.1:7862\n",
      "* Running on public URL: https://f7f3b3b3347e37fcb3.gradio.live\n",
      "\n",
      "This share link expires in 1 week. For free permanent hosting and GPU upgrades, run `gradio deploy` from the terminal in the working directory to deploy to Hugging Face Spaces (https://huggingface.co/spaces)\n"
     ]
    },
    {
     "data": {
      "text/html": [
       "<div><iframe src=\"https://f7f3b3b3347e37fcb3.gradio.live\" width=\"100%\" height=\"500\" allow=\"autoplay; camera; microphone; clipboard-read; clipboard-write;\" frameborder=\"0\" allowfullscreen></iframe></div>"
      ],
      "text/plain": [
       "<IPython.core.display.HTML object>"
      ]
     },
     "metadata": {},
     "output_type": "display_data"
    },
    {
     "data": {
      "text/plain": []
     },
     "execution_count": 15,
     "metadata": {},
     "output_type": "execute_result"
    }
   ],
   "source": [
    "messages = [{\"role\" : \"system\", \"content\" : \"You are a financial experts that specializes in real estate investment and negotiation\"}]\n",
    "demo = gradio.Interface(fn = chatGPT, inputs = \"text\", outputs = \"text\", title = \"My Saving Assistant\")\n",
    "demo.launch(share = True)\n"
   ]
  },
  {
   "cell_type": "code",
   "execution_count": null,
   "id": "d2c9b422",
   "metadata": {
    "id": "d2c9b422"
   },
   "outputs": [],
   "source": []
  },
  {
   "cell_type": "code",
   "execution_count": null,
   "id": "f2caa43f",
   "metadata": {
    "id": "f2caa43f"
   },
   "outputs": [],
   "source": []
  }
 ],
 "metadata": {
  "colab": {
   "provenance": []
  },
  "kernelspec": {
   "display_name": "Python 3 (ipykernel)",
   "language": "python",
   "name": "python3"
  },
  "language_info": {
   "codemirror_mode": {
    "name": "ipython",
    "version": 3
   },
   "file_extension": ".py",
   "mimetype": "text/x-python",
   "name": "python",
   "nbconvert_exporter": "python",
   "pygments_lexer": "ipython3",
   "version": "3.12.7"
  }
 },
 "nbformat": 4,
 "nbformat_minor": 5
}
