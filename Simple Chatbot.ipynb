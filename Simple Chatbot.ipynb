{
 "cells": [
  {
   "cell_type": "markdown",
   "id": "700384be-cac0-442a-8a4e-b38a3cfe169d",
   "metadata": {},
   "source": [
    "# Simple Chatbot using ChatGpt API"
   ]
  },
  {
   "cell_type": "code",
   "execution_count": 8,
   "id": "db975792-56c8-4642-893e-2a8d71a8829c",
   "metadata": {},
   "outputs": [],
   "source": [
    "#pip install openai"
   ]
  },
  {
   "cell_type": "code",
   "execution_count": 16,
   "id": "e483e4fe-1fc7-4cbd-b605-0288a60b08c7",
   "metadata": {},
   "outputs": [],
   "source": [
    "import openai"
   ]
  },
  {
   "cell_type": "code",
   "execution_count": 26,
   "id": "3c87a28e-57fb-4e47-af55-29707dea6fc8",
   "metadata": {},
   "outputs": [],
   "source": [
    "from openai import OpenAI \n",
    "\n",
    "client =  OpenAi(\"API KEY\")"
   ]
  },
  {
   "cell_type": "code",
   "execution_count": 30,
   "id": "bf0229da-9f1f-4ecc-bb9d-85189b376ef4",
   "metadata": {},
   "outputs": [
    {
     "name": "stdout",
     "output_type": "stream",
     "text": [
      "Sure! Here are three engaging ideas for a tech tutorials YouTube channel:\n",
      "\n",
      "1. **DIY Tech Projects for Beginners**:\n",
      "   - Focus on hands-on projects that viewers can create using affordable technology. Each episode could guide viewers through building items like custom Raspberry Pi setups, Arduino-based gadgets, or simple automation projects with smart home devices. Include step-by-step instructions, materials needed, and troubleshooting tips, making sure to highlight the fun and educational aspects of each project.\n",
      "\n",
      "2. **Tech Tips and Tricks**:\n",
      "   - Create a series that covers essential tips and hacks for popular software, operating systems, and devices. You could explore topics like maximizing productivity on Windows/Mac, smartphone shortcuts, or exploring hidden features in software like Microsoft Office, Adobe Creative Suite, or even popular apps. This series can also include revisions or updates on current tech trends and new software releases, helping viewers stay up-to-date.\n",
      "\n",
      "3. **Gaming Tech Tutorials**:\n",
      "   - Build a niche around gaming, covering various topics such as setting up gaming gear (like PCs, consoles, or streaming equipment), optimizing gaming performance, or creating game mods. You could also include tutorials on graphic design for game interfaces or video editing tips for gameplay footage. Additionally, collaborate with gamers to showcase their setup or share tips on how to create engaging gaming content on platforms like Twitch and YouTube.\n",
      "\n",
      "Each of these ideas caters to a wide audience with different interests in the tech world, allowing for creativity and engagement in your tutorials!\n"
     ]
    }
   ],
   "source": [
    "# completion = openai.ChatCompletion.create(model = \"gpt-3.5-turbo\",\n",
    "#                                           messages=[{\n",
    "#                                               \"role\" : \"user\",\n",
    "#                                               \"content\": \"Give me 3 ideas for tech tutorials youtube channel\"\n",
    "#                                           }])\n",
    "\n",
    "# print(completion.choices[0].message.content)\n",
    "\n",
    "response = client.chat.completions.create(\n",
    "    model = \"gpt-4o-mini\",\n",
    "    messages = [\n",
    "        {\n",
    "            \"role\" : \"user\",\n",
    "            \"content\" : \"Give me 3 ideas for tech tutorials youtube channel\"\n",
    "        }\n",
    "    ]\n",
    ")\n",
    " \n",
    "print(response.choices[0].message.content)\n",
    "\n"
   ]
  },
  {
   "cell_type": "code",
   "execution_count": null,
   "id": "12778233",
   "metadata": {
    "id": "12778233"
   },
   "outputs": [],
   "source": []
  }
 ],
 "metadata": {
  "colab": {
   "provenance": []
  },
  "kernelspec": {
   "display_name": "Python [conda env:base] *",
   "language": "python",
   "name": "conda-base-py"
  },
  "language_info": {
   "codemirror_mode": {
    "name": "ipython",
    "version": 3
   },
   "file_extension": ".py",
   "mimetype": "text/x-python",
   "name": "python",
   "nbconvert_exporter": "python",
   "pygments_lexer": "ipython3",
   "version": "3.12.7"
  }
 },
 "nbformat": 4,
 "nbformat_minor": 5
}
